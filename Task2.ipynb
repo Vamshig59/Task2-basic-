{
  "nbformat": 4,
  "nbformat_minor": 0,
  "metadata": {
    "colab": {
      "provenance": []
    },
    "kernelspec": {
      "name": "python3",
      "display_name": "Python 3"
    },
    "language_info": {
      "name": "python"
    }
  },
  "cells": [
    {
      "cell_type": "markdown",
      "source": [],
      "metadata": {
        "id": "E_tRYqpuXUOD"
      }
    },
    {
      "cell_type": "markdown",
      "source": [
        "# Q1) LIST COMPREHENSIONS\n"
      ],
      "metadata": {
        "id": "ooZtPEqNXWQq"
      }
    },
    {
      "cell_type": "markdown",
      "source": [],
      "metadata": {
        "id": "mmMqbui1UnZ3"
      }
    },
    {
      "cell_type": "code",
      "source": [
        "if __name__ == '__main__':\n",
        "    x = int(input())\n",
        "    y = int(input())\n",
        "    z = int(input())\n",
        "    n = int(input())"
      ],
      "metadata": {
        "id": "iA5AZjYMXf7P"
      },
      "execution_count": null,
      "outputs": []
    },
    {
      "cell_type": "markdown",
      "source": [
        "# Q2) NESTED LISTS\n"
      ],
      "metadata": {
        "id": "iJdYqyM1XlAU"
      }
    },
    {
      "cell_type": "code",
      "source": [
        "if __name__ == '__main__':\n",
        "    list1 = []\n",
        "    list2 = []\n",
        "    for _ in range(int(input())):\n",
        "        name = input()\n",
        "        score = float(input())\n",
        "        list1.append([name,score])\n",
        "        list2.append(score)\n",
        "            \n",
        "    minScore = min(list2)\n",
        "    while(minScore == min(list2)):\n",
        "        del list1[(list2.index(min(list2)))]\n",
        "        list2.remove(min(list2))\n",
        "        \n",
        "    newlist = []\n",
        "    for i in list1:\n",
        "        if(i[1] == min(list2)):\n",
        "            newlist.append(i[0])\n",
        "    print('\\n'.join(sorted(newlist)))"
      ],
      "metadata": {
        "id": "DYAP594_X5CJ"
      },
      "execution_count": null,
      "outputs": []
    },
    {
      "cell_type": "markdown",
      "source": [
        "# Q3) FIND THE PERCENTAGE"
      ],
      "metadata": {
        "id": "0c6rXCxwX615"
      }
    },
    {
      "cell_type": "code",
      "source": [
        "if __name__ == '__main__':\n",
        "    n = int(input())\n",
        "    student_marks = {}\n",
        "    for _ in range(n):\n",
        "        name, *line = input().split()\n",
        "        scores = list(map(float, line))\n",
        "        student_marks[name] = scores\n",
        "    query_name = input()\n",
        "    \n",
        "    agg = sum([grade for grade in student_marks[query_name]])\n",
        "\n",
        "    print('%.2f' %(agg/len(student_marks[query_name])))\n"
      ],
      "metadata": {
        "id": "TJr68kt1YDvQ"
      },
      "execution_count": null,
      "outputs": []
    },
    {
      "cell_type": "markdown",
      "source": [
        "# Q4) LISTS"
      ],
      "metadata": {
        "id": "zVoQ_D7-YFNY"
      }
    },
    {
      "cell_type": "code",
      "source": [
        "if __name__ == '__main__':\n",
        "    N = int(input())\n",
        "    ls = []\n",
        "    for _ in range(N):\n",
        "        cmd, *input_value = input().split()\n",
        "        input_value = tuple(map(int, input_value))\n",
        "        if cmd == \"print\":\n",
        "            func = f\"{cmd}(ls)\"\n",
        "        else:\n",
        "            func = f\"ls.{cmd}{input_value}\"\n",
        "        eval(func)"
      ],
      "metadata": {
        "id": "Xh9GtkVTYeyg"
      },
      "execution_count": null,
      "outputs": []
    },
    {
      "cell_type": "markdown",
      "source": [
        "# Q5) TUPLES"
      ],
      "metadata": {
        "id": "U8rPQ8TzYgk4"
      }
    },
    {
      "cell_type": "code",
      "source": [
        "if __name__ == '__main__':\n",
        "    n = int(input())\n",
        "    int_list = [int(i) for i in input().split()]\n",
        "    int_tuple = tuple(int_list)\n",
        "    print(hash(int_tuple))"
      ],
      "metadata": {
        "id": "JYT5xDJZY3IO"
      },
      "execution_count": null,
      "outputs": []
    },
    {
      "cell_type": "markdown",
      "source": [
        "# Q6) NO IDEA!"
      ],
      "metadata": {
        "id": "6_KW4XEGY4rn"
      }
    },
    {
      "cell_type": "code",
      "source": [
        "n,m = list(map(int, input().split()))\n",
        "arr, a, b = list(map(int, input().split())), set(map(int, input().split())), set(map(int, input().split()))\n",
        "\n",
        "x = set(arr) & a \n",
        "y = set(arr) & b\n",
        "c = 0\n",
        "for i in arr:\n",
        "    if i in x: \n",
        "        c += 1\n",
        "    elif i in y: \n",
        "        c -= 1\n",
        "\n",
        "print(c)"
      ],
      "metadata": {
        "id": "rMsqNe1uZKYO"
      },
      "execution_count": null,
      "outputs": []
    },
    {
      "cell_type": "markdown",
      "source": [
        "# Q7) SYMMETRIC DIFFERENCE"
      ],
      "metadata": {
        "id": "olvMQ3KlZW23"
      }
    },
    {
      "cell_type": "code",
      "source": [
        "input()\n",
        "a = set(map(int, input().split()))\n",
        "input()\n",
        "b = set(map(int, input().split()))\n",
        "\n",
        "print(*sorted(a ^ b), sep='\\n')\n"
      ],
      "metadata": {
        "id": "qesDQxJ-ZhJl"
      },
      "execution_count": null,
      "outputs": []
    },
    {
      "cell_type": "markdown",
      "source": [
        "# Q8) SET.ADD()"
      ],
      "metadata": {
        "id": "Tc7o-u7BZkEF"
      }
    },
    {
      "cell_type": "code",
      "source": [
        "number = int(input())\n",
        "lst = []\n",
        "for i in range(number):\n",
        "    enter = input()\n",
        "    lst.append(enter)\n",
        "    \n",
        "resultado = len(set(lst))\n",
        "\n",
        "print(resultado)\n"
      ],
      "metadata": {
        "id": "DUoKoBcIZrw9"
      },
      "execution_count": null,
      "outputs": []
    },
    {
      "cell_type": "markdown",
      "source": [
        "# Q9) Set .discard(), .remove() & .pop()"
      ],
      "metadata": {
        "id": "zzdYPFNDZwUw"
      }
    },
    {
      "cell_type": "code",
      "source": [
        "n = int(input())\n",
        "s = set(map(int, input().split()))"
      ],
      "metadata": {
        "id": "8STPOwlnZ7As"
      },
      "execution_count": null,
      "outputs": []
    },
    {
      "cell_type": "markdown",
      "source": [
        "# Q10) Set .union() Operation"
      ],
      "metadata": {
        "id": "en5ipnnEaAe3"
      }
    },
    {
      "cell_type": "code",
      "source": [
        "input()\n",
        "s = set(input().split())\n",
        "input()\n",
        "print(len(s.union(input().split())))"
      ],
      "metadata": {
        "id": "0P9lhYQvaKft"
      },
      "execution_count": null,
      "outputs": []
    },
    {
      "cell_type": "markdown",
      "source": [
        "# Q11)Set .intersection() Operation"
      ],
      "metadata": {
        "id": "PX268B5aaSkk"
      }
    },
    {
      "cell_type": "code",
      "source": [
        "input()\n",
        "set1 = set(map(int, input().split()))\n",
        "input()\n",
        "set2 = set(map(int, input().split()))\n",
        "print(len(set1 & set2))"
      ],
      "metadata": {
        "id": "eZ6IifC1acIc"
      },
      "execution_count": null,
      "outputs": []
    },
    {
      "cell_type": "markdown",
      "source": [
        "# Q11)Set .difference() Operation"
      ],
      "metadata": {
        "id": "YA7JV68JajaO"
      }
    },
    {
      "cell_type": "code",
      "source": [
        "input()\n",
        "a = set(map(int, input().split()))\n",
        "input()\n",
        "b = set(map(int, input().split()))\n",
        "print(len(a-b))"
      ],
      "metadata": {
        "id": "m-0zYFF3atCG"
      },
      "execution_count": null,
      "outputs": []
    },
    {
      "cell_type": "markdown",
      "source": [
        "# Q12)Set .symmetric_difference() Operation"
      ],
      "metadata": {
        "id": "zEsVDsV7a3e7"
      }
    },
    {
      "cell_type": "code",
      "source": [
        "input()\n",
        "a = set(map(int, input().split()))\n",
        "input()\n",
        "b = set(map(int, input().split()))\n",
        "print(len(a.symmetric_difference(b)))\n"
      ],
      "metadata": {
        "id": "b12s5yl8bBHU"
      },
      "execution_count": null,
      "outputs": []
    },
    {
      "cell_type": "markdown",
      "source": [
        "# Q13) SET MUTATIONS"
      ],
      "metadata": {
        "id": "tS3X4ZmZbEyj"
      }
    },
    {
      "cell_type": "code",
      "source": [
        "input()\n",
        "a = set(map(int, input().split()))\n",
        "\n",
        "for _ in range(int(input())):\n",
        "    name, *_ = input().split()\n",
        "    getattr(a, name)(set(map(int, input().split())))\n",
        "\n",
        "print(sum(a))\n"
      ],
      "metadata": {
        "id": "SDnOQawIbNbC"
      },
      "execution_count": null,
      "outputs": []
    },
    {
      "cell_type": "markdown",
      "source": [
        "# Q14) The Captain's Room"
      ],
      "metadata": {
        "id": "chRz6kQ1bRDC"
      }
    },
    {
      "cell_type": "code",
      "source": [
        "input()\n",
        "seen_once, seen_again = set(), set()\n",
        "for element in input().split():\n",
        "    (seen_again if element in seen_once else seen_once).add(element)\n",
        "print((seen_once - seen_again).pop())\n"
      ],
      "metadata": {
        "id": "4E-xLurdbZaD"
      },
      "execution_count": null,
      "outputs": []
    },
    {
      "cell_type": "markdown",
      "source": [
        "# Q15) CHECK SUBSET"
      ],
      "metadata": {
        "id": "xH00KUuubeGj"
      }
    },
    {
      "cell_type": "code",
      "source": [
        "t=int(input())\n",
        "for i in range(t):\n",
        "    l=[]\n",
        "    l1=[]\n",
        "    c=0\n",
        "    n1=int(input())\n",
        "    l=list(map(int,input().split()))\n",
        "    n2=int(input())\n",
        "    l1=list(map(int,input().split()))\n",
        "    for i in l:\n",
        "        if i in l1:\n",
        "            c=c+1\n",
        "    if c==len(l):\n",
        "        print(True)\n",
        "    else:\n",
        "        print(False)    \n"
      ],
      "metadata": {
        "id": "Wm61bHEGbnES"
      },
      "execution_count": null,
      "outputs": []
    },
    {
      "cell_type": "markdown",
      "source": [
        "# Q16) Check Strict Superset"
      ],
      "metadata": {
        "id": "di123cxebowD"
      }
    },
    {
      "cell_type": "code",
      "source": [
        "A = set(input().split())\n",
        "sup = True\n",
        "for _ in range(int(input())):\n",
        "    B = set(input().split())\n",
        "    if not (A > B):\n",
        "        sup = False\n",
        "        break\n",
        "print (sup)"
      ],
      "metadata": {
        "id": "UmQvGPrMbui7"
      },
      "execution_count": null,
      "outputs": []
    },
    {
      "cell_type": "code",
      "execution_count": null,
      "metadata": {
        "id": "cBFbgshqNz-v"
      },
      "outputs": [],
      "source": []
    },
    {
      "cell_type": "markdown",
      "source": [],
      "metadata": {
        "id": "pJiWO5YzUlqh"
      }
    },
    {
      "cell_type": "code",
      "source": [],
      "metadata": {
        "id": "22D3j3UaUgP_"
      },
      "execution_count": null,
      "outputs": []
    }
  ]
}